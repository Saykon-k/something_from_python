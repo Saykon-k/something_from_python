{
 "cells": [
  {
   "cell_type": "code",
   "execution_count": 128,
   "metadata": {},
   "outputs": [],
   "source": [
    "import numpy \n",
    "import random"
   ]
  },
  {
   "cell_type": "code",
   "execution_count": 129,
   "metadata": {},
   "outputs": [],
   "source": [
    "def sort_train(nubmer_of_wagon,k,mesto):\n",
    "    for i in range(len(nubmer_of_wagon)):\n",
    "        if nubmer_of_wagon[i] <= k:\n",
    "            mesto[k-nubmer_of_wagon[i]] += 1\n",
    "\n",
    "    res =[]\n",
    "    for i in range(k):\n",
    "        res.extend([(k-i)]*mesto[i] )\n",
    "    return res"
   ]
  },
  {
   "cell_type": "code",
   "execution_count": 130,
   "metadata": {},
   "outputs": [],
   "source": [
    "def sort_train_2(nubmer_of_wagon,k,mesto):\n",
    "    for i in range(len(nubmer_of_wagon)):\n",
    "        mesto[nubmer_of_wagon[i]-1] += 1\n",
    "    res =[]\n",
    "    for i in range(k-1, -1, -1):\n",
    "        res.extend([(i+1)]*mesto[i])\n",
    "    return res"
   ]
  },
  {
   "cell_type": "code",
   "execution_count": 138,
   "metadata": {},
   "outputs": [],
   "source": [
    "max_num_of_vagon = 200_000\n",
    "kol_varonov = 2_000_000"
   ]
  },
  {
   "cell_type": "code",
   "execution_count": 139,
   "metadata": {},
   "outputs": [],
   "source": [
    "nubmer_of_wagons  =  [random.randrange(1, max_num_of_vagon, 1) for i in range(kol_varonov)]\n",
    "for_some_test = nubmer_of_wagons.copy()"
   ]
  },
  {
   "cell_type": "code",
   "execution_count": 141,
   "metadata": {},
   "outputs": [
    {
     "name": "stdout",
     "output_type": "stream",
     "text": [
      "656 ms ± 94 ms per loop (mean ± std. dev. of 7 runs, 1 loop each)\n"
     ]
    }
   ],
   "source": [
    "%%timeit\n",
    "mesto = [0]*max_num_of_vagon\n",
    "sort_train_2(nubmer_of_wagons,max_num_of_vagon,mesto)"
   ]
  },
  {
   "cell_type": "code",
   "execution_count": 142,
   "metadata": {},
   "outputs": [
    {
     "name": "stdout",
     "output_type": "stream",
     "text": [
      "672 ms ± 44.8 ms per loop (mean ± std. dev. of 7 runs, 1 loop each)\n"
     ]
    }
   ],
   "source": [
    "%%timeit\n",
    "mesto = [0]*max_num_of_vagon\n",
    "sort_train(nubmer_of_wagons,max_num_of_vagon,mesto)"
   ]
  },
  {
   "cell_type": "code",
   "execution_count": 143,
   "metadata": {},
   "outputs": [
    {
     "name": "stdout",
     "output_type": "stream",
     "text": [
      "319 ms ± 45.2 ms per loop (mean ± std. dev. of 7 runs, 1 loop each)\n"
     ]
    }
   ],
   "source": [
    "%%timeit\n",
    "ini_array = numpy.sort(nubmer_of_wagons)\n",
    "init  = ini_array[::-1]"
   ]
  },
  {
   "cell_type": "code",
   "execution_count": 144,
   "metadata": {},
   "outputs": [
    {
     "name": "stdout",
     "output_type": "stream",
     "text": [
      "428 ms ± 43.9 ms per loop (mean ± std. dev. of 7 runs, 1 loop each)\n"
     ]
    }
   ],
   "source": [
    "%%timeit\n",
    "for_some_test.sort()\n",
    "for_some_test.reverse()"
   ]
  },
  {
   "cell_type": "markdown",
   "metadata": {},
   "source": [
    "#### Встроенные функции быстрее. Если написать библиотеку свою, то вполне возможно, что в данной задаче получится их обогнать,так как известные некоторые параметры. Правда непонятно, что происходит, если использовать встроенную функцию в питоне, слишком уж большая скорость, даже по сравнению с нампаем "
   ]
  }
 ],
 "metadata": {
  "kernelspec": {
   "display_name": "Python 3",
   "language": "python",
   "name": "python3"
  },
  "language_info": {
   "codemirror_mode": {
    "name": "ipython",
    "version": 3
   },
   "file_extension": ".py",
   "mimetype": "text/x-python",
   "name": "python",
   "nbconvert_exporter": "python",
   "pygments_lexer": "ipython3",
   "version": "3.7.4"
  }
 },
 "nbformat": 4,
 "nbformat_minor": 2
}
