{
 "cells": [
  {
   "cell_type": "markdown",
   "metadata": {},
   "source": [
    "### vagon - модуль на си "
   ]
  },
  {
   "cell_type": "code",
   "execution_count": 1,
   "metadata": {},
   "outputs": [],
   "source": [
    "import numpy \n",
    "import random\n",
    "import vagon"
   ]
  },
  {
   "cell_type": "code",
   "execution_count": 2,
   "metadata": {},
   "outputs": [],
   "source": [
    "def sort_train(nubmer_of_wagon,k,mesto):\n",
    "    for i in range(len(nubmer_of_wagon)):\n",
    "        if nubmer_of_wagon[i] <= k:\n",
    "            mesto[k-nubmer_of_wagon[i]] += 1\n",
    "\n",
    "    res =[]\n",
    "    for i in range(k):\n",
    "        res.extend([(k-i)]*mesto[i] )\n",
    "    return res"
   ]
  },
  {
   "cell_type": "code",
   "execution_count": 3,
   "metadata": {},
   "outputs": [],
   "source": [
    "def sort_train_2(nubmer_of_wagon,k,mesto):\n",
    "    for i in range(len(nubmer_of_wagon)):\n",
    "        mesto[nubmer_of_wagon[i]-1] += 1\n",
    "    res =[]\n",
    "    for i in range(k-1, -1, -1):\n",
    "        res.extend([(i+1)]*mesto[i])\n",
    "    return res"
   ]
  },
  {
   "cell_type": "code",
   "execution_count": 40,
   "metadata": {},
   "outputs": [],
   "source": [
    "max_num_of_vagon = 2_500_000\n",
    "kol_varonov = 5_000_000"
   ]
  },
  {
   "cell_type": "code",
   "execution_count": 41,
   "metadata": {},
   "outputs": [],
   "source": [
    "nubmer_of_wagons  =  [random.randrange(1, max_num_of_vagon, 1) for i in range(kol_varonov)]\n",
    "for_some_test = nubmer_of_wagons.copy()"
   ]
  },
  {
   "cell_type": "code",
   "execution_count": 42,
   "metadata": {},
   "outputs": [
    {
     "name": "stdout",
     "output_type": "stream",
     "text": [
      "2.11 s ± 4.34 ms per loop (mean ± std. dev. of 7 runs, 1 loop each)\n"
     ]
    }
   ],
   "source": [
    "%%timeit\n",
    "mesto = [0]*max_num_of_vagon\n",
    "sort_train(nubmer_of_wagons,max_num_of_vagon,mesto)"
   ]
  },
  {
   "cell_type": "code",
   "execution_count": null,
   "metadata": {},
   "outputs": [],
   "source": [
    "%%timeit\n",
    "mesto = [0]*max_num_of_vagon\n",
    "sort_train_2(nubmer_of_wagons,max_num_of_vagon,mesto)"
   ]
  },
  {
   "cell_type": "code",
   "execution_count": null,
   "metadata": {},
   "outputs": [],
   "source": [
    "%%timeit\n",
    "ini_array = numpy.sort(nubmer_of_wagons)\n",
    "init  = ini_array[::-1]"
   ]
  },
  {
   "cell_type": "code",
   "execution_count": null,
   "metadata": {},
   "outputs": [],
   "source": [
    "%%timeit\n",
    "a = sorted(for_some_test)\n",
    "a = list(reversed(a)) "
   ]
  },
  {
   "cell_type": "code",
   "execution_count": null,
   "metadata": {},
   "outputs": [],
   "source": [
    "%%timeit\n",
    "vagon.sort_vagons(nubmer_of_wagons,max(nubmer_of_wagons))"
   ]
  },
  {
   "cell_type": "code",
   "execution_count": 39,
   "metadata": {},
   "outputs": [],
   "source": [
    "max_num_of_vagon = 15\n",
    "kol_varonov = 20"
   ]
  },
  {
   "cell_type": "code",
   "execution_count": 26,
   "metadata": {},
   "outputs": [],
   "source": [
    "nubmer_of_wagons  =  [random.randrange(1, max_num_of_vagon, 1) for i in range(kol_varonov)]\n",
    "for_some_test = nubmer_of_wagons.copy()"
   ]
  },
  {
   "cell_type": "code",
   "execution_count": 27,
   "metadata": {},
   "outputs": [
    {
     "name": "stdout",
     "output_type": "stream",
     "text": [
      "6.78 µs ± 118 ns per loop (mean ± std. dev. of 7 runs, 100000 loops each)\n"
     ]
    }
   ],
   "source": [
    "%%timeit\n",
    "mesto = [0]*max_num_of_vagon\n",
    "sort_train(nubmer_of_wagons,max_num_of_vagon,mesto)"
   ]
  },
  {
   "cell_type": "code",
   "execution_count": 28,
   "metadata": {},
   "outputs": [
    {
     "name": "stdout",
     "output_type": "stream",
     "text": [
      "6.06 µs ± 119 ns per loop (mean ± std. dev. of 7 runs, 100000 loops each)\n"
     ]
    }
   ],
   "source": [
    "%%timeit\n",
    "mesto = [0]*max_num_of_vagon\n",
    "sort_train_2(nubmer_of_wagons,max_num_of_vagon,mesto)"
   ]
  },
  {
   "cell_type": "code",
   "execution_count": 29,
   "metadata": {},
   "outputs": [
    {
     "name": "stdout",
     "output_type": "stream",
     "text": [
      "4.92 µs ± 79.1 ns per loop (mean ± std. dev. of 7 runs, 100000 loops each)\n"
     ]
    }
   ],
   "source": [
    "%%timeit\n",
    "ini_array = numpy.sort(nubmer_of_wagons)\n",
    "init  = ini_array[::-1]"
   ]
  },
  {
   "cell_type": "code",
   "execution_count": 30,
   "metadata": {},
   "outputs": [
    {
     "name": "stdout",
     "output_type": "stream",
     "text": [
      "1.17 µs ± 17 ns per loop (mean ± std. dev. of 7 runs, 1000000 loops each)\n"
     ]
    }
   ],
   "source": [
    "%%timeit\n",
    "a = sorted(for_some_test)\n",
    "a = list(reversed(a)) "
   ]
  },
  {
   "cell_type": "code",
   "execution_count": 31,
   "metadata": {},
   "outputs": [
    {
     "name": "stdout",
     "output_type": "stream",
     "text": [
      "3.26 µs ± 72.3 ns per loop (mean ± std. dev. of 7 runs, 100000 loops each)\n"
     ]
    }
   ],
   "source": [
    "%%timeit\n",
    "vagon.sort_vagons(nubmer_of_wagons,max(nubmer_of_wagons))"
   ]
  },
  {
   "cell_type": "markdown",
   "metadata": {},
   "source": [
    "#### Встроенные функции быстрее при определенных условиях. Была написана библиотека своя с такой же логикой, что и sort_train - первый аргумент количество поездов, второй максимальный номер вагона. Если размерность очень большая(от 1млн и выше), то функция работает быстрее, чем в нампае и встроенная, но, если размерность относительно маленькая, то проигрывает только встроенной функции в питон - нампай обгоняет. Вприницпе алгоритм вообще не предназначен, как соревновательный элемент, он строго нужен для задачи, которая была написана на изображении. Но результат необычный."
   ]
  }
 ],
 "metadata": {
  "kernelspec": {
   "display_name": "Python 3",
   "language": "python",
   "name": "python3"
  },
  "language_info": {
   "codemirror_mode": {
    "name": "ipython",
    "version": 3
   },
   "file_extension": ".py",
   "mimetype": "text/x-python",
   "name": "python",
   "nbconvert_exporter": "python",
   "pygments_lexer": "ipython3",
   "version": "3.7.4"
  }
 },
 "nbformat": 4,
 "nbformat_minor": 2
}
