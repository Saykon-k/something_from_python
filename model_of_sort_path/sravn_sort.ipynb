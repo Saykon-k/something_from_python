{
 "cells": [
  {
   "cell_type": "markdown",
   "metadata": {},
   "source": [
    "### vagon - модуль на си "
   ]
  },
  {
   "cell_type": "code",
   "execution_count": 1,
   "metadata": {},
   "outputs": [],
   "source": [
    "import numpy \n",
    "import random\n",
    "import vagon"
   ]
  },
  {
   "cell_type": "code",
   "execution_count": 2,
   "metadata": {},
   "outputs": [],
   "source": [
    "def sort_train(nubmer_of_wagon,k,mesto):\n",
    "    for i in range(len(nubmer_of_wagon)):\n",
    "        if nubmer_of_wagon[i] <= k:\n",
    "            mesto[k-nubmer_of_wagon[i]] += 1\n",
    "\n",
    "    res =[]\n",
    "    for i in range(k):\n",
    "        res.extend([(k-i)]*mesto[i] )\n",
    "    return res"
   ]
  },
  {
   "cell_type": "code",
   "execution_count": 3,
   "metadata": {},
   "outputs": [],
   "source": [
    "def sort_train_2(nubmer_of_wagon,k,mesto):\n",
    "    for i in range(len(nubmer_of_wagon)):\n",
    "        mesto[nubmer_of_wagon[i]-1] += 1\n",
    "    res =[]\n",
    "    for i in range(k-1, -1, -1):\n",
    "        res.extend([(i+1)]*mesto[i])\n",
    "    return res"
   ]
  },
  {
   "cell_type": "code",
   "execution_count": 25,
   "metadata": {},
   "outputs": [],
   "source": [
    "max_num_of_vagon = 20_000\n",
    "kol_varonov = 1_000_000"
   ]
  },
  {
   "cell_type": "code",
   "execution_count": 26,
   "metadata": {},
   "outputs": [],
   "source": [
    "nubmer_of_wagons  =  [random.randrange(1, max_num_of_vagon, 1) for i in range(kol_varonov)]\n",
    "for_some_test = nubmer_of_wagons.copy()"
   ]
  },
  {
   "cell_type": "code",
   "execution_count": 6,
   "metadata": {},
   "outputs": [
    {
     "name": "stdout",
     "output_type": "stream",
     "text": [
      "206 ms ± 7.06 ms per loop (mean ± std. dev. of 7 runs, 1 loop each)\n"
     ]
    }
   ],
   "source": [
    "%%timeit\n",
    "mesto = [0]*max_num_of_vagon\n",
    "sort_train(nubmer_of_wagons,max_num_of_vagon,mesto)"
   ]
  },
  {
   "cell_type": "code",
   "execution_count": 7,
   "metadata": {},
   "outputs": [
    {
     "name": "stdout",
     "output_type": "stream",
     "text": [
      "165 ms ± 8.78 ms per loop (mean ± std. dev. of 7 runs, 10 loops each)\n"
     ]
    }
   ],
   "source": [
    "%%timeit\n",
    "mesto = [0]*max_num_of_vagon\n",
    "sort_train_2(nubmer_of_wagons,max_num_of_vagon,mesto)"
   ]
  },
  {
   "cell_type": "code",
   "execution_count": 8,
   "metadata": {},
   "outputs": [
    {
     "name": "stdout",
     "output_type": "stream",
     "text": [
      "123 ms ± 103 µs per loop (mean ± std. dev. of 7 runs, 10 loops each)\n"
     ]
    }
   ],
   "source": [
    "%%timeit\n",
    "ini_array = numpy.sort(nubmer_of_wagons)\n",
    "init  = ini_array[::-1]"
   ]
  },
  {
   "cell_type": "code",
   "execution_count": 9,
   "metadata": {},
   "outputs": [
    {
     "name": "stdout",
     "output_type": "stream",
     "text": [
      "300 ms ± 5.09 ms per loop (mean ± std. dev. of 7 runs, 1 loop each)\n"
     ]
    }
   ],
   "source": [
    "%%timeit\n",
    "a = sorted(for_some_test)\n",
    "a = list(reversed(a)) "
   ]
  },
  {
   "cell_type": "code",
   "execution_count": 10,
   "metadata": {},
   "outputs": [
    {
     "name": "stdout",
     "output_type": "stream",
     "text": [
      "109 ms ± 1.44 ms per loop (mean ± std. dev. of 7 runs, 10 loops each)\n"
     ]
    }
   ],
   "source": [
    "%%timeit\n",
    "vagon.sort_vagons(nubmer_of_wagons,max_num_of_vagon)"
   ]
  },
  {
   "cell_type": "code",
   "execution_count": 11,
   "metadata": {},
   "outputs": [],
   "source": [
    "max_num_of_vagon = 5\n",
    "kol_varonov = 20"
   ]
  },
  {
   "cell_type": "code",
   "execution_count": 12,
   "metadata": {},
   "outputs": [],
   "source": [
    "nubmer_of_wagons  =  [random.randrange(1, max_num_of_vagon, 1) for i in range(kol_varonov)]\n",
    "for_some_test = nubmer_of_wagons.copy()"
   ]
  },
  {
   "cell_type": "code",
   "execution_count": 13,
   "metadata": {},
   "outputs": [
    {
     "name": "stdout",
     "output_type": "stream",
     "text": [
      "4.3 µs ± 30.5 ns per loop (mean ± std. dev. of 7 runs, 100000 loops each)\n"
     ]
    }
   ],
   "source": [
    "%%timeit\n",
    "mesto = [0]*max_num_of_vagon\n",
    "sort_train(nubmer_of_wagons,max_num_of_vagon,mesto)"
   ]
  },
  {
   "cell_type": "code",
   "execution_count": 14,
   "metadata": {},
   "outputs": [
    {
     "name": "stdout",
     "output_type": "stream",
     "text": [
      "3.81 µs ± 62.6 ns per loop (mean ± std. dev. of 7 runs, 100000 loops each)\n"
     ]
    }
   ],
   "source": [
    "%%timeit\n",
    "mesto = [0]*max_num_of_vagon\n",
    "sort_train_2(nubmer_of_wagons,max_num_of_vagon,mesto)"
   ]
  },
  {
   "cell_type": "code",
   "execution_count": 15,
   "metadata": {},
   "outputs": [
    {
     "name": "stdout",
     "output_type": "stream",
     "text": [
      "4.48 µs ± 89.1 ns per loop (mean ± std. dev. of 7 runs, 100000 loops each)\n"
     ]
    }
   ],
   "source": [
    "%%timeit\n",
    "ini_array = numpy.sort(nubmer_of_wagons)\n",
    "init  = ini_array[::-1]"
   ]
  },
  {
   "cell_type": "code",
   "execution_count": 16,
   "metadata": {},
   "outputs": [
    {
     "name": "stdout",
     "output_type": "stream",
     "text": [
      "3.13 µs ± 93.9 ns per loop (mean ± std. dev. of 7 runs, 100000 loops each)\n"
     ]
    }
   ],
   "source": [
    "%%timeit\n",
    "vagon.sort_vagons(nubmer_of_wagons,max_num_of_vagon)"
   ]
  },
  {
   "cell_type": "code",
   "execution_count": 17,
   "metadata": {},
   "outputs": [
    {
     "name": "stdout",
     "output_type": "stream",
     "text": [
      "1.07 µs ± 16.2 ns per loop (mean ± std. dev. of 7 runs, 1000000 loops each)\n"
     ]
    }
   ],
   "source": [
    "%%timeit\n",
    "a = sorted(for_some_test)\n",
    "a = list(reversed(a)) "
   ]
  },
  {
   "cell_type": "markdown",
   "metadata": {},
   "source": [
    "### Встроенные функции быстрее при определенных условиях. Была написана библиотека своя с такой же логикой, что и sort_train - первый аргумент количество поездов, второй максимальный номер вагона. Если количество вагонов велико,но при этом максимальный номер среди всех вагонов не особо большой(0.25 от количества), то алгоритм работает лучше нампая и встроенного. Но при этом, если размерность маленькая и размер такой же процент, как и в первом случае, то алгоритм работает все равно быстрее нампая, но медленее встроенной функции. Данный алгоритм может быть использован в практических целях, но нужно учитывать обостоятельства. И, собственно, сортировка эта нужна для одной прикладной задачи, но может быть использована для других. Если заранее известен максимальное число в последовательности. Но если неизвестно максимальное число - то результат очень близкий к нампаю для большой размерности. "
   ]
  },
  {
   "cell_type": "code",
   "execution_count": 18,
   "metadata": {},
   "outputs": [],
   "source": [
    "max_num_of_vagon = 20_000\n",
    "kol_varonov = 1_000_000"
   ]
  },
  {
   "cell_type": "code",
   "execution_count": 19,
   "metadata": {},
   "outputs": [],
   "source": [
    "nubmer_of_wagons  =  [random.randrange(1, max_num_of_vagon, 1) for i in range(kol_varonov)]\n",
    "for_some_test = nubmer_of_wagons.copy()"
   ]
  },
  {
   "cell_type": "code",
   "execution_count": 20,
   "metadata": {},
   "outputs": [
    {
     "name": "stdout",
     "output_type": "stream",
     "text": [
      "131 ms ± 5.86 ms per loop (mean ± std. dev. of 7 runs, 10 loops each)\n"
     ]
    }
   ],
   "source": [
    "%%timeit\n",
    "vagon.sort_vagons(nubmer_of_wagons,max(nubmer_of_wagons))"
   ]
  },
  {
   "cell_type": "code",
   "execution_count": 21,
   "metadata": {},
   "outputs": [],
   "source": [
    "max_num_of_vagon = 2\n",
    "kol_varonov = 20"
   ]
  },
  {
   "cell_type": "code",
   "execution_count": 22,
   "metadata": {},
   "outputs": [],
   "source": [
    "nubmer_of_wagons  =  [random.randrange(1, max_num_of_vagon, 1) for i in range(kol_varonov)]\n",
    "for_some_test = nubmer_of_wagons.copy()"
   ]
  },
  {
   "cell_type": "code",
   "execution_count": 23,
   "metadata": {},
   "outputs": [
    {
     "name": "stdout",
     "output_type": "stream",
     "text": [
      "3.7 µs ± 72.2 ns per loop (mean ± std. dev. of 7 runs, 100000 loops each)\n"
     ]
    }
   ],
   "source": [
    "%%timeit\n",
    "vagon.sort_vagons(nubmer_of_wagons,max(nubmer_of_wagons))"
   ]
  }
 ],
 "metadata": {
  "kernelspec": {
   "display_name": "Python 3",
   "language": "python",
   "name": "python3"
  },
  "language_info": {
   "codemirror_mode": {
    "name": "ipython",
    "version": 3
   },
   "file_extension": ".py",
   "mimetype": "text/x-python",
   "name": "python",
   "nbconvert_exporter": "python",
   "pygments_lexer": "ipython3",
   "version": "3.7.4"
  }
 },
 "nbformat": 4,
 "nbformat_minor": 2
}
